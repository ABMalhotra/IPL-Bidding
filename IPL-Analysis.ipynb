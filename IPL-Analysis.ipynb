{
 "cells": [
  {
   "cell_type": "code",
   "execution_count": 1,
   "metadata": {},
   "outputs": [],
   "source": [
    "import pandas as pd"
   ]
  },
  {
   "cell_type": "code",
   "execution_count": 2,
   "metadata": {
    "scrolled": true
   },
   "outputs": [],
   "source": [
    "finances = pd.read_pickle('IPL_finances.pkl')\n",
    "results  = pd.read_pickle('IPL_results.pkl')\n",
    "\n",
    "#Assume that the current 60crore rupees budget applied forever (rules for 2013 are not clear to me)\n",
    "finances['Spend']=600000000.0-finances['Balance']\n",
    "finances['Spend_crores']=finances['Spend']/10000000.0\n"
   ]
  },
  {
   "cell_type": "code",
   "execution_count": 3,
   "metadata": {},
   "outputs": [
    {
     "name": "stdout",
     "output_type": "stream",
     "text": [
      "['Chennai Super Kings' 'Deccan Chargers' 'Delhi Capitals' 'Gujarat Lions'\n",
      " 'Kings XI Punjab' 'Kochi Tuskers Kerala' 'Kolkata Knight Riders'\n",
      " 'Mumbai Indians' 'Pune Warriors India' 'Rajasthan Royals'\n",
      " 'Rising Pune Supergiant' 'Royal Challengers Bangalore'\n",
      " 'Sunrisers Hyderabad']\n"
     ]
    },
    {
     "data": {
      "text/plain": [
       "MultiIndex(levels=[[2013, 2014, 2015, 2016, 2017, 2018, 2019, 2020], [' Chennai Super Kings', 'Delhi', ' Gujarat Lions', ' Kings XI Punjab', ' Kolkata Knight Riders', ' Mumbai Indians', ' Pune Warriors India', ' Rajasthan Royals', ' Rising Pune Supergiant', ' Royal Challengers Bangalore', ' Sunrisers Hyderabad']],\n",
       "           codes=[[7, 7, 7, 7, 7, 7, 7, 7, 6, 6, 6, 6, 6, 6, 6, 6, 5, 5, 5, 5, 5, 5, 5, 5, 4, 4, 4, 4, 4, 4, 4, 4, 3, 3, 3, 3, 3, 3, 3, 3, 2, 2, 2, 2, 2, 2, 2, 2, 1, 1, 1, 1, 1, 1, 1, 1, 0, 0, 0, 0, 0, 0, 0, 0, 0], [0, 1, 3, 4, 5, 7, 9, 10, 0, 1, 3, 4, 5, 7, 9, 10, 0, 1, 3, 4, 5, 7, 9, 10, 1, 2, 3, 4, 5, 8, 9, 10, 1, 2, 3, 4, 5, 8, 9, 10, 0, 1, 3, 4, 5, 7, 9, 10, 0, 1, 3, 4, 5, 7, 9, 10, 0, 1, 3, 4, 5, 6, 7, 9, 10]],\n",
       "           names=['year', 'Team'])"
      ]
     },
     "execution_count": 3,
     "metadata": {},
     "output_type": "execute_result"
    }
   ],
   "source": [
    "#Get all teams ever\n",
    "teams = results.index.values\n",
    "print(teams)\n",
    "finances.index"
   ]
  },
  {
   "cell_type": "code",
   "execution_count": 4,
   "metadata": {},
   "outputs": [
    {
     "data": {
      "text/plain": [
       "3454.1495342"
      ]
     },
     "execution_count": 4,
     "metadata": {},
     "output_type": "execute_result"
    }
   ],
   "source": [
    "#Total money spent ever in IPL (in crores)\n",
    "sum(finances.Spend_crores)"
   ]
  },
  {
   "cell_type": "code",
   "execution_count": 5,
   "metadata": {},
   "outputs": [
    {
     "data": {
      "text/plain": [
       "year\n",
       "2013    389.964534\n",
       "2014    468.100000\n",
       "2015    432.645000\n",
       "2016    417.720000\n",
       "2017    422.820000\n",
       "2018    468.700000\n",
       "2019    441.550000\n",
       "2020    412.650000\n",
       "Name: Spend_crores, dtype: float64"
      ]
     },
     "execution_count": 5,
     "metadata": {},
     "output_type": "execute_result"
    }
   ],
   "source": [
    "#Money spent by teams since 2013\n",
    "finances.Spend_crores.groupby(level=[0]).sum()"
   ]
  },
  {
   "cell_type": "code",
   "execution_count": 6,
   "metadata": {},
   "outputs": [
    {
     "data": {
      "text/plain": [
       "Team\n",
       " Chennai Super Kings            337.988869\n",
       "Delhi                           441.148534\n",
       " Gujarat Lions                   99.150000\n",
       " Kings XI Punjab                383.005761\n",
       " Kolkata Knight Riders          428.396954\n",
       " Mumbai Indians                 462.150392\n",
       " Pune Warriors India             55.094807\n",
       " Rajasthan Royals               277.115046\n",
       " Rising Pune Supergiant         114.500000\n",
       " Royal Challengers Bangalore    456.709716\n",
       " Sunrisers Hyderabad            398.889454\n",
       "Name: Spend_crores, dtype: float64"
      ]
     },
     "execution_count": 6,
     "metadata": {},
     "output_type": "execute_result"
    }
   ],
   "source": [
    "\n",
    "finances.Spend_crores.groupby(level=[1]).sum()"
   ]
  },
  {
   "cell_type": "code",
   "execution_count": null,
   "metadata": {},
   "outputs": [],
   "source": []
  }
 ],
 "metadata": {
  "kernelspec": {
   "display_name": "Python 3",
   "language": "python",
   "name": "python3"
  },
  "language_info": {
   "codemirror_mode": {
    "name": "ipython",
    "version": 3
   },
   "file_extension": ".py",
   "mimetype": "text/x-python",
   "name": "python",
   "nbconvert_exporter": "python",
   "pygments_lexer": "ipython3",
   "version": "3.7.5"
  }
 },
 "nbformat": 4,
 "nbformat_minor": 4
}
