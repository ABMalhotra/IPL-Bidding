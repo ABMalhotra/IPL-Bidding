{
 "cells": [
  {
   "cell_type": "code",
   "execution_count": null,
   "metadata": {},
   "outputs": [],
   "source": [
    "import bs4 as bs\n",
    "import urllib\n",
    "import pandas as pd"
   ]
  },
  {
   "cell_type": "code",
   "execution_count": null,
   "metadata": {},
   "outputs": [],
   "source": [
    "years = [2008,2009,2010,2011,2012,2013,2014,2015,2016,2017,2018,2019]\n",
    "results={}"
   ]
  },
  {
   "cell_type": "code",
   "execution_count": null,
   "metadata": {},
   "outputs": [],
   "source": [
    "for year in years:\n",
    "    source = urllib.request.urlopen('https://www.iplt20.com/stats/'+str(year)).read()\n",
    "    soup = bs.BeautifulSoup(source,'html')\n",
    "    \n",
    "    # title of the page\n",
    "    print(year,':',soup.title.string)\n",
    "    \n",
    "    # title of the page\n",
    "    points_table = soup.find_all(class_=\"standings-table__optional\")\n",
    "    data_dump=[]\n",
    "    for entry in points_table:\n",
    "        data_dump.append(entry.text)\n",
    "    data_dump=data_dump[6:]\n",
    "    \n",
    "    # title of the page\n",
    "    results_data=[]\n",
    "    idx=0\n",
    "    while idx<len(data_dump):\n",
    "        data = [data_dump[idx],data_dump[idx+1],data_dump[idx+2],data_dump[idx+3]]\n",
    "        data = list(map(int,data))\n",
    "        results_data.append(data)\n",
    "        idx+=8\n",
    "        \n",
    "    year_results={}\n",
    "    teams = soup.find_all(class_=\"standings-table__team-name js-team\")\n",
    "    for standing,team in enumerate(teams):\n",
    "        year_results[team.text]=results_data[standing],standing+1\n",
    "    \n",
    "    results[year]=year_results"
   ]
  },
  {
   "cell_type": "code",
   "execution_count": null,
   "metadata": {},
   "outputs": [],
   "source": [
    "results = pd.DataFrame(results)"
   ]
  },
  {
   "cell_type": "code",
   "execution_count": null,
   "metadata": {},
   "outputs": [],
   "source": [
    "df=pd.read_excel('AuctionData.xlsx',index_col=[0,1])  \n",
    "print(df.columns)"
   ]
  },
  {
   "cell_type": "code",
   "execution_count": null,
   "metadata": {},
   "outputs": [],
   "source": [
    "exchange_rate=61 #1USD=61INR, ~2013\n",
    "inr_years=list(range(2014,2021))"
   ]
  },
  {
   "cell_type": "code",
   "execution_count": null,
   "metadata": {},
   "outputs": [],
   "source": [
    "df.Balance=df.Balance.str.replace(',','').str.replace('₹','').astype(float) #Remove rupee symbol\n",
    "df.Balance[2013]=df.Balance[2013]*exchange_rate\n",
    "df.Overseas=df.Overseas.astype(int)\n",
    "df.TotalPlayers=df.TotalPlayers.astype(int)\n",
    "finances = df"
   ]
  },
  {
   "cell_type": "code",
   "execution_count": null,
   "metadata": {},
   "outputs": [],
   "source": [
    "finances"
   ]
  },
  {
   "cell_type": "code",
   "execution_count": null,
   "metadata": {},
   "outputs": [],
   "source": [
    "#Export\n",
    "finances.to_pickle('IPL_finances.pkl')\n",
    "results.to_pickle('IPL_results.pkl')"
   ]
  },
  {
   "cell_type": "code",
   "execution_count": null,
   "metadata": {},
   "outputs": [],
   "source": []
  }
 ],
 "metadata": {
  "kernelspec": {
   "display_name": "Python 3",
   "language": "python",
   "name": "python3"
  },
  "language_info": {
   "codemirror_mode": {
    "name": "ipython",
    "version": 3
   },
   "file_extension": ".py",
   "mimetype": "text/x-python",
   "name": "python",
   "nbconvert_exporter": "python",
   "pygments_lexer": "ipython3",
   "version": "3.7.5"
  }
 },
 "nbformat": 4,
 "nbformat_minor": 4
}
