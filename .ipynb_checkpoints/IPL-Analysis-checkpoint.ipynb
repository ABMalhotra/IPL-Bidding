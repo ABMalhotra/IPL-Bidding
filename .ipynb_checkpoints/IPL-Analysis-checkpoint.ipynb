{
 "cells": [
  {
   "cell_type": "code",
   "execution_count": 1,
   "metadata": {},
   "outputs": [],
   "source": [
    "import pandas as pd"
   ]
  },
  {
   "cell_type": "code",
   "execution_count": 2,
   "metadata": {
    "scrolled": true
   },
   "outputs": [],
   "source": [
    "finances = pd.read_pickle('IPL_finances.pkl')\n",
    "results  = pd.read_pickle('IPL_results.pkl')\n",
    "\n",
    "#Assume that the current 60crore rupees budget applied forever (rules for 2013 are not clear to me)\n",
    "finances['Spend']=600000000.0-finances['Balance']\n",
    "finances['Spend_crores']=finances['Spend']/10000000.0\n"
   ]
  },
  {
   "cell_type": "code",
   "execution_count": 3,
   "metadata": {},
   "outputs": [
    {
     "name": "stdout",
     "output_type": "stream",
     "text": [
      "{'Gujarat Lions', 'Kings XI Punjab', 'Royal Challengers Bangalore', 'Pune Warriors India', 'Sunrisers Hyderabad', 'Mumbai Indians', 'Delhi Capitals', 'Rising Pune Supergiant', 'Rajasthan Royals', 'Chennai Super Kings', 'Kolkata Knight Riders'}\n"
     ]
    }
   ],
   "source": [
    "#Get all teams ever for which we have both results and finance data\n",
    "teams_results = set(results.index.values)\n",
    "teams_finances= set(finances.index.get_level_values(level=1))\n",
    "#Final set of teams with both data\n",
    "teams = teams_results.intersection(teams_finances)\n",
    "print(teams)"
   ]
  },
  {
   "cell_type": "code",
   "execution_count": 4,
   "metadata": {},
   "outputs": [
    {
     "name": "stdout",
     "output_type": "stream",
     "text": [
      "['Chennai Super Kings', 'Delhi Capitals', 'Kings XI Punjab', 'Kolkata Knight Riders', 'Mumbai Indians', 'Rajasthan Royals', 'Royal Challengers Bangalore', 'Sunrisers Hyderabad']\n"
     ]
    }
   ],
   "source": [
    "#Currently Active Teams based on results for latest year\n",
    "currently_active = results.iloc[:,-1].notnull()\n",
    "currently_active_teams = results[currently_active].index.to_list()\n",
    "print(currently_active_teams)"
   ]
  },
  {
   "cell_type": "code",
   "execution_count": 5,
   "metadata": {},
   "outputs": [
    {
     "data": {
      "text/plain": [
       "3454.1495342"
      ]
     },
     "execution_count": 5,
     "metadata": {},
     "output_type": "execute_result"
    }
   ],
   "source": [
    "#Total money spent ever in IPL (in crores)\n",
    "sum(finances.Spend_crores)"
   ]
  },
  {
   "cell_type": "code",
   "execution_count": 6,
   "metadata": {},
   "outputs": [
    {
     "data": {
      "text/plain": [
       "year\n",
       "2013    389.964534\n",
       "2014    468.100000\n",
       "2015    432.645000\n",
       "2016    417.720000\n",
       "2017    422.820000\n",
       "2018    468.700000\n",
       "2019    441.550000\n",
       "2020    412.650000\n",
       "Name: Spend_crores, dtype: float64"
      ]
     },
     "execution_count": 6,
     "metadata": {},
     "output_type": "execute_result"
    }
   ],
   "source": [
    "#Money spent by teams since 2013\n",
    "finances.Spend_crores.groupby(level=[0]).sum()"
   ]
  },
  {
   "cell_type": "code",
   "execution_count": 7,
   "metadata": {},
   "outputs": [
    {
     "data": {
      "text/plain": [
       "Team\n",
       "Chennai Super Kings            337.988869\n",
       "Delhi Capitals                 441.148534\n",
       "Gujarat Lions                   99.150000\n",
       "Kings XI Punjab                383.005761\n",
       "Kolkata Knight Riders          428.396954\n",
       "Mumbai Indians                 462.150392\n",
       "Pune Warriors India             55.094807\n",
       "Rajasthan Royals               277.115046\n",
       "Rising Pune Supergiant         114.500000\n",
       "Royal Challengers Bangalore    456.709716\n",
       "Sunrisers Hyderabad            398.889454\n",
       "Name: Spend_crores, dtype: float64"
      ]
     },
     "execution_count": 7,
     "metadata": {},
     "output_type": "execute_result"
    }
   ],
   "source": [
    "#Money spent by teams since 2013\n",
    "finances.Spend_crores.groupby(level=[1]).sum()"
   ]
  },
  {
   "cell_type": "code",
   "execution_count": 98,
   "metadata": {
    "scrolled": true
   },
   "outputs": [],
   "source": [
    "def get_games_points(results,team = 'Delhi Capitals',year=2019):\n",
    "    try:\n",
    "        res  = results[year].loc[team][0]\n",
    "        wins   = res[0]\n",
    "        losses = res[1]\n",
    "        ties   = res[2]\n",
    "        nr     = res[3]\n",
    "        games  = wins+losses+ties+nr\n",
    "        points = 2*wins+1*(ties+nr)\n",
    "    except TypeError:\n",
    "        points = 0.0\n",
    "        games  = 0\n",
    "    return(games, points)\n"
   ]
  },
  {
   "cell_type": "code",
   "execution_count": 102,
   "metadata": {},
   "outputs": [],
   "source": [
    "points_season,active_seasons = {},{}\n",
    "for team in teams:\n",
    "    seasons_active = 0\n",
    "    for year in range(2013,2020):\n",
    "        games,points = get_games_points(results,team=team,year=year)\n",
    "        if points>0:\n",
    "            seasons_active +=1\n",
    "        points_season[(team,year)] = [games,points]\n",
    "    active_seasons[team]=seasons_active"
   ]
  },
  {
   "cell_type": "code",
   "execution_count": 103,
   "metadata": {},
   "outputs": [
    {
     "data": {
      "text/html": [
       "<div>\n",
       "<style scoped>\n",
       "    .dataframe tbody tr th:only-of-type {\n",
       "        vertical-align: middle;\n",
       "    }\n",
       "\n",
       "    .dataframe tbody tr th {\n",
       "        vertical-align: top;\n",
       "    }\n",
       "\n",
       "    .dataframe thead th {\n",
       "        text-align: right;\n",
       "    }\n",
       "</style>\n",
       "<table border=\"1\" class=\"dataframe\">\n",
       "  <thead>\n",
       "    <tr style=\"text-align: right;\">\n",
       "      <th></th>\n",
       "      <th>seasons</th>\n",
       "    </tr>\n",
       "  </thead>\n",
       "  <tbody>\n",
       "    <tr>\n",
       "      <th>Chennai Super Kings</th>\n",
       "      <td>5</td>\n",
       "    </tr>\n",
       "    <tr>\n",
       "      <th>Delhi Capitals</th>\n",
       "      <td>7</td>\n",
       "    </tr>\n",
       "    <tr>\n",
       "      <th>Gujarat Lions</th>\n",
       "      <td>2</td>\n",
       "    </tr>\n",
       "    <tr>\n",
       "      <th>Kings XI Punjab</th>\n",
       "      <td>7</td>\n",
       "    </tr>\n",
       "    <tr>\n",
       "      <th>Kolkata Knight Riders</th>\n",
       "      <td>7</td>\n",
       "    </tr>\n",
       "    <tr>\n",
       "      <th>Mumbai Indians</th>\n",
       "      <td>7</td>\n",
       "    </tr>\n",
       "    <tr>\n",
       "      <th>Pune Warriors India</th>\n",
       "      <td>1</td>\n",
       "    </tr>\n",
       "    <tr>\n",
       "      <th>Rajasthan Royals</th>\n",
       "      <td>5</td>\n",
       "    </tr>\n",
       "    <tr>\n",
       "      <th>Rising Pune Supergiant</th>\n",
       "      <td>2</td>\n",
       "    </tr>\n",
       "    <tr>\n",
       "      <th>Royal Challengers Bangalore</th>\n",
       "      <td>7</td>\n",
       "    </tr>\n",
       "    <tr>\n",
       "      <th>Sunrisers Hyderabad</th>\n",
       "      <td>7</td>\n",
       "    </tr>\n",
       "  </tbody>\n",
       "</table>\n",
       "</div>"
      ],
      "text/plain": [
       "                             seasons\n",
       "Chennai Super Kings                5\n",
       "Delhi Capitals                     7\n",
       "Gujarat Lions                      2\n",
       "Kings XI Punjab                    7\n",
       "Kolkata Knight Riders              7\n",
       "Mumbai Indians                     7\n",
       "Pune Warriors India                1\n",
       "Rajasthan Royals                   5\n",
       "Rising Pune Supergiant             2\n",
       "Royal Challengers Bangalore        7\n",
       "Sunrisers Hyderabad                7"
      ]
     },
     "execution_count": 103,
     "metadata": {},
     "output_type": "execute_result"
    }
   ],
   "source": [
    "s = pd.Series(points_season)\n",
    "points = s.reset_index()\n",
    "points.columns = ['team','year','points']\n",
    "active_seasons = pd.DataFrame.from_dict([active_seasons])\n",
    "active_seasons = active_seasons.transpose()\n",
    "active_seasons.columns = ['seasons']"
   ]
  },
  {
   "cell_type": "code",
   "execution_count": 107,
   "metadata": {},
   "outputs": [],
   "source": [
    "points_total = points.groupby(['team']).sum().drop(columns=['year'])"
   ]
  },
  {
   "cell_type": "code",
   "execution_count": 106,
   "metadata": {},
   "outputs": [
    {
     "data": {
      "text/html": [
       "<div>\n",
       "<style scoped>\n",
       "    .dataframe tbody tr th:only-of-type {\n",
       "        vertical-align: middle;\n",
       "    }\n",
       "\n",
       "    .dataframe tbody tr th {\n",
       "        vertical-align: top;\n",
       "    }\n",
       "\n",
       "    .dataframe thead th {\n",
       "        text-align: right;\n",
       "    }\n",
       "</style>\n",
       "<table border=\"1\" class=\"dataframe\">\n",
       "  <thead>\n",
       "    <tr style=\"text-align: right;\">\n",
       "      <th></th>\n",
       "      <th>seasons</th>\n",
       "    </tr>\n",
       "    <tr>\n",
       "      <th>team</th>\n",
       "      <th></th>\n",
       "    </tr>\n",
       "  </thead>\n",
       "  <tbody>\n",
       "    <tr>\n",
       "      <th>Chennai Super Kings</th>\n",
       "      <td>5</td>\n",
       "    </tr>\n",
       "    <tr>\n",
       "      <th>Delhi Capitals</th>\n",
       "      <td>7</td>\n",
       "    </tr>\n",
       "    <tr>\n",
       "      <th>Gujarat Lions</th>\n",
       "      <td>2</td>\n",
       "    </tr>\n",
       "    <tr>\n",
       "      <th>Kings XI Punjab</th>\n",
       "      <td>7</td>\n",
       "    </tr>\n",
       "    <tr>\n",
       "      <th>Kolkata Knight Riders</th>\n",
       "      <td>7</td>\n",
       "    </tr>\n",
       "    <tr>\n",
       "      <th>Mumbai Indians</th>\n",
       "      <td>7</td>\n",
       "    </tr>\n",
       "    <tr>\n",
       "      <th>Pune Warriors India</th>\n",
       "      <td>1</td>\n",
       "    </tr>\n",
       "    <tr>\n",
       "      <th>Rajasthan Royals</th>\n",
       "      <td>5</td>\n",
       "    </tr>\n",
       "    <tr>\n",
       "      <th>Rising Pune Supergiant</th>\n",
       "      <td>2</td>\n",
       "    </tr>\n",
       "    <tr>\n",
       "      <th>Royal Challengers Bangalore</th>\n",
       "      <td>7</td>\n",
       "    </tr>\n",
       "    <tr>\n",
       "      <th>Sunrisers Hyderabad</th>\n",
       "      <td>7</td>\n",
       "    </tr>\n",
       "  </tbody>\n",
       "</table>\n",
       "</div>"
      ],
      "text/plain": [
       "                             seasons\n",
       "team                                \n",
       "Chennai Super Kings                5\n",
       "Delhi Capitals                     7\n",
       "Gujarat Lions                      2\n",
       "Kings XI Punjab                    7\n",
       "Kolkata Knight Riders              7\n",
       "Mumbai Indians                     7\n",
       "Pune Warriors India                1\n",
       "Rajasthan Royals                   5\n",
       "Rising Pune Supergiant             2\n",
       "Royal Challengers Bangalore        7\n",
       "Sunrisers Hyderabad                7"
      ]
     },
     "execution_count": 106,
     "metadata": {},
     "output_type": "execute_result"
    }
   ],
   "source": [
    "points_total.join(active_seasons)"
   ]
  },
  {
   "cell_type": "code",
   "execution_count": null,
   "metadata": {},
   "outputs": [],
   "source": []
  },
  {
   "cell_type": "code",
   "execution_count": null,
   "metadata": {},
   "outputs": [],
   "source": []
  }
 ],
 "metadata": {
  "kernelspec": {
   "display_name": "Python 3",
   "language": "python",
   "name": "python3"
  },
  "language_info": {
   "codemirror_mode": {
    "name": "ipython",
    "version": 3
   },
   "file_extension": ".py",
   "mimetype": "text/x-python",
   "name": "python",
   "nbconvert_exporter": "python",
   "pygments_lexer": "ipython3",
   "version": "3.7.5"
  }
 },
 "nbformat": 4,
 "nbformat_minor": 4
}
